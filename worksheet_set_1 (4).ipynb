{
 "cells": [
  {
   "cell_type": "markdown",
   "id": "69a3f2be",
   "metadata": {},
   "source": [
    "# PYTHON WORKSHEET"
   ]
  },
  {
   "cell_type": "markdown",
   "id": "837a62ad",
   "metadata": {},
   "source": [
    "FACTORIAL OF A NUMBER"
   ]
  },
  {
   "cell_type": "code",
   "execution_count": 16,
   "id": "50fd6404",
   "metadata": {},
   "outputs": [],
   "source": [
    "#change the value for a different result num = 7"
   ]
  },
  {
   "cell_type": "code",
   "execution_count": 17,
   "id": "f0534a5a",
   "metadata": {},
   "outputs": [],
   "source": [
    "#To take input from the user\n",
    "#num = int(input(\"Enter a number: \"))"
   ]
  },
  {
   "cell_type": "code",
   "execution_count": 18,
   "id": "d17e8cd6",
   "metadata": {},
   "outputs": [],
   "source": [
    "factorial = 1"
   ]
  },
  {
   "cell_type": "code",
   "execution_count": 19,
   "id": "09879f37",
   "metadata": {},
   "outputs": [],
   "source": [
    "#check if the number is negative,positive or zero"
   ]
  },
  {
   "cell_type": "code",
   "execution_count": 22,
   "id": "710a83c1",
   "metadata": {},
   "outputs": [
    {
     "name": "stdout",
     "output_type": "stream",
     "text": [
      "The factorial of 5 is 120\n"
     ]
    }
   ],
   "source": [
    "if num < 0:\n",
    "    print(\"sorry ,factorial does not exist for negative numbers \")\n",
    "elif num == 0:\n",
    "    print(\"The factorial of 0 is 1\")\n",
    "else:\n",
    "    for i in  range(1, num + 1):\n",
    "        factorial = factorial*i\n",
    "    print(\"The factorial of\",num,\"is\",factorial)    "
   ]
  },
  {
   "cell_type": "markdown",
   "id": "fc5ef139",
   "metadata": {},
   "source": [
    "STRING IS PALINDROME OR NOT"
   ]
  },
  {
   "cell_type": "code",
   "execution_count": 40,
   "id": "8c819f68",
   "metadata": {},
   "outputs": [],
   "source": [
    "#function which return reverse of a string"
   ]
  },
  {
   "cell_type": "code",
   "execution_count": 44,
   "id": "8231fe24",
   "metadata": {},
   "outputs": [
    {
     "name": "stdout",
     "output_type": "stream",
     "text": [
      "yes\n"
     ]
    }
   ],
   "source": [
    "def ispalindrome(s):\n",
    "    return s == s[: :-1]\n",
    "#Driver code\n",
    "s = \"malayalam\"\n",
    "ans = ispalindrome(s)\n",
    "if ans:\n",
    "    print(\"yes\")\n",
    "    \n",
    "else:\n",
    "    print(\"NO\")"
   ]
  },
  {
   "cell_type": "markdown",
   "id": "00031d33",
   "metadata": {},
   "source": [
    "RIGHT ANGLED TRIANGLE FROM TWO GIVEN SIDES "
   ]
  },
  {
   "cell_type": "code",
   "execution_count": 45,
   "id": "079cdb46",
   "metadata": {},
   "outputs": [],
   "source": [
    "import math"
   ]
  },
  {
   "cell_type": "code",
   "execution_count": 53,
   "id": "14e21f6b",
   "metadata": {},
   "outputs": [
    {
     "name": "stdout",
     "output_type": "stream",
     "text": [
      "Enter base: 10.5\n"
     ]
    }
   ],
   "source": [
    "a = float(input(\"Enter base: \"))"
   ]
  },
  {
   "cell_type": "code",
   "execution_count": 54,
   "id": "61221e0f",
   "metadata": {},
   "outputs": [
    {
     "name": "stdout",
     "output_type": "stream",
     "text": [
      "Enter height: 5.5\n"
     ]
    }
   ],
   "source": [
    "b = float(input(\"Enter height: \"))"
   ]
  },
  {
   "cell_type": "code",
   "execution_count": 55,
   "id": "8652ad71",
   "metadata": {},
   "outputs": [
    {
     "name": "stdout",
     "output_type": "stream",
     "text": [
      "Enter angle: 60\n"
     ]
    }
   ],
   "source": [
    "x = float(input(\"Enter angle: \"))"
   ]
  },
  {
   "cell_type": "code",
   "execution_count": 62,
   "id": "aca83c76",
   "metadata": {},
   "outputs": [],
   "source": [
    "c = math.sqrt(a ** 2 + b ** 2)"
   ]
  },
  {
   "cell_type": "code",
   "execution_count": 64,
   "id": "6cb8d65b",
   "metadata": {},
   "outputs": [
    {
     "name": "stdout",
     "output_type": "stream",
     "text": [
      "Hypotenuse = 11.853269591129697\n"
     ]
    }
   ],
   "source": [
    "print(\"Hypotenuse =\", c)"
   ]
  },
  {
   "cell_type": "markdown",
   "id": "63712c9b",
   "metadata": {},
   "source": [
    "PYTHON PROGRAM TO COUNT"
   ]
  },
  {
   "cell_type": "code",
   "execution_count": 65,
   "id": "b65e3bbe",
   "metadata": {},
   "outputs": [],
   "source": [
    "#Python program to count occurence of a character in a string"
   ]
  },
  {
   "cell_type": "code",
   "execution_count": 66,
   "id": "592033a0",
   "metadata": {},
   "outputs": [
    {
     "name": "stdout",
     "output_type": "stream",
     "text": [
      "Enter the string: welcome to python\n"
     ]
    }
   ],
   "source": [
    "string = input(\"Enter the string: \")"
   ]
  },
  {
   "cell_type": "code",
   "execution_count": 67,
   "id": "f5663b92",
   "metadata": {},
   "outputs": [
    {
     "name": "stdout",
     "output_type": "stream",
     "text": [
      "please enter the char to find frequency of the character\n",
      "2\n"
     ]
    }
   ],
   "source": [
    "char=input(\"please enter the char to find frequency of the character\\n\")"
   ]
  },
  {
   "cell_type": "code",
   "execution_count": 68,
   "id": "e11a48bd",
   "metadata": {},
   "outputs": [
    {
     "name": "stdout",
     "output_type": "stream",
     "text": [
      "The frequency of the  2 in the string is: 2\n"
     ]
    }
   ],
   "source": [
    "count=2\n",
    "for i in range(len(string)):\n",
    "    if(string[i]==char):\n",
    "        count=count+1\n",
    "print(\"The frequency of the \",char,\"in the string is:\",count)        "
   ]
  },
  {
   "cell_type": "markdown",
   "id": "982745a9",
   "metadata": {},
   "source": [
    "whether number is prime OR composite"
   ]
  },
  {
   "cell_type": "code",
   "execution_count": 76,
   "id": "a14c3dee",
   "metadata": {},
   "outputs": [],
   "source": [
    "#Input a number and check if the number is prime or composite number"
   ]
  },
  {
   "cell_type": "code",
   "execution_count": 82,
   "id": "4e8d7026",
   "metadata": {},
   "outputs": [
    {
     "name": "stdout",
     "output_type": "stream",
     "text": [
      "Enter any number:3\n"
     ]
    }
   ],
   "source": [
    "n = int(input(\"Enter any number:\"))\n",
    "if(n == 0 or n == 1):\n",
    "    printf(n,\"Number is neither prime nor composite\")\n",
    "elif n>1 :\n",
    "    for i in range(2,n):\n",
    "        if(n%i == 0):\n",
    "            print(n,\"is not prime but composite number\")\n",
    "            break"
   ]
  },
  {
   "cell_type": "code",
   "execution_count": 87,
   "id": "2c1075c6",
   "metadata": {},
   "outputs": [
    {
     "ename": "SyntaxError",
     "evalue": "invalid syntax (Temp/ipykernel_15036/3356761151.py, line 1)",
     "output_type": "error",
     "traceback": [
      "\u001b[1;36m  File \u001b[1;32m\"C:\\Users\\MDSHAF~1\\AppData\\Local\\Temp/ipykernel_15036/3356761151.py\"\u001b[1;36m, line \u001b[1;32m1\u001b[0m\n\u001b[1;33m    else:\u001b[0m\n\u001b[1;37m    ^\u001b[0m\n\u001b[1;31mSyntaxError\u001b[0m\u001b[1;31m:\u001b[0m invalid syntax\n"
     ]
    }
   ],
   "source": [
    "else:\n",
    "    print(n,\" number is prime but not composite number \")\n",
    "else:\n",
    "    print(\" please enter positive number only \")"
   ]
  },
  {
   "cell_type": "code",
   "execution_count": null,
   "id": "9862db3e",
   "metadata": {},
   "outputs": [],
   "source": []
  }
 ],
 "metadata": {
  "kernelspec": {
   "display_name": "Python 3 (ipykernel)",
   "language": "python",
   "name": "python3"
  },
  "language_info": {
   "codemirror_mode": {
    "name": "ipython",
    "version": 3
   },
   "file_extension": ".py",
   "mimetype": "text/x-python",
   "name": "python",
   "nbconvert_exporter": "python",
   "pygments_lexer": "ipython3",
   "version": "3.9.7"
  }
 },
 "nbformat": 4,
 "nbformat_minor": 5
}
